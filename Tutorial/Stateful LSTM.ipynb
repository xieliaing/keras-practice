{
 "cells": [
  {
   "cell_type": "code",
   "execution_count": 1,
   "metadata": {},
   "outputs": [
    {
     "name": "stderr",
     "output_type": "stream",
     "text": [
      "Using TensorFlow backend.\n"
     ]
    }
   ],
   "source": [
    "import numpy\n",
    "from keras.models import Sequential\n",
    "from keras.layers import Dense\n",
    "from keras.layers import LSTM\n",
    "from keras.utils import np_utils\n",
    "\n",
    "# fix random seed for reproducibility\n",
    "numpy.random.seed(7)"
   ]
  },
  {
   "cell_type": "code",
   "execution_count": 2,
   "metadata": {},
   "outputs": [],
   "source": [
    "import tensorflow as tf"
   ]
  },
  {
   "cell_type": "code",
   "execution_count": 3,
   "metadata": {},
   "outputs": [],
   "source": [
    "# define the raw dataset\n",
    "alphabet = \"1234567890abcdefghijklmnopqrstuvwxyz\"\n",
    "# create mapping of characters to integers (0-25) and the reverse\n",
    "char_to_int = dict((c, i) for i, c in enumerate(alphabet))\n",
    "int_to_char = dict((i, c) for i, c in enumerate(alphabet))"
   ]
  },
  {
   "cell_type": "code",
   "execution_count": 4,
   "metadata": {},
   "outputs": [
    {
     "name": "stdout",
     "output_type": "stream",
     "text": [
      "1 -> 2\n",
      "2 -> 3\n",
      "3 -> 4\n",
      "4 -> 5\n",
      "5 -> 6\n",
      "6 -> 7\n",
      "7 -> 8\n",
      "8 -> 9\n",
      "9 -> 0\n",
      "0 -> a\n",
      "a -> b\n",
      "b -> c\n",
      "c -> d\n",
      "d -> e\n",
      "e -> f\n",
      "f -> g\n",
      "g -> h\n",
      "h -> i\n",
      "i -> j\n",
      "j -> k\n",
      "k -> l\n",
      "l -> m\n",
      "m -> n\n",
      "n -> o\n",
      "o -> p\n",
      "p -> q\n",
      "q -> r\n",
      "r -> s\n",
      "s -> t\n",
      "t -> u\n",
      "u -> v\n",
      "v -> w\n",
      "w -> x\n",
      "x -> y\n",
      "y -> z\n"
     ]
    }
   ],
   "source": [
    "# prepare the dataset of input to output pairs encoded as integers\n",
    "seq_length = 1\n",
    "dataX = []\n",
    "dataY = []\n",
    "for i in range(0, len(alphabet) - seq_length, 1):\n",
    "\tseq_in = alphabet[i:i + seq_length]\n",
    "\tseq_out = alphabet[i + seq_length]\n",
    "\tdataX.append([char_to_int[char] for char in seq_in])\n",
    "\tdataY.append(char_to_int[seq_out])\n",
    "\tprint(seq_in, '->', seq_out)"
   ]
  },
  {
   "cell_type": "code",
   "execution_count": 5,
   "metadata": {},
   "outputs": [],
   "source": [
    "# reshape X to be [samples, time steps, features]\n",
    "X = numpy.reshape(dataX, (len(dataX), seq_length, 1))"
   ]
  },
  {
   "cell_type": "code",
   "execution_count": 6,
   "metadata": {},
   "outputs": [],
   "source": [
    "# normalize\n",
    "X = X / float(len(alphabet))\n",
    "# one hot encode the output variable\n",
    "y = np_utils.to_categorical(dataY)"
   ]
  },
  {
   "cell_type": "code",
   "execution_count": 7,
   "metadata": {},
   "outputs": [
    {
     "name": "stdout",
     "output_type": "stream",
     "text": [
      "WARNING:tensorflow:From C:\\Users\\xieliang\\AppData\\Roaming\\Python\\Python36\\site-packages\\tensorflow\\python\\framework\\op_def_library.py:263: colocate_with (from tensorflow.python.framework.ops) is deprecated and will be removed in a future version.\n",
      "Instructions for updating:\n",
      "Colocations handled automatically by placer.\n",
      "WARNING:tensorflow:From C:\\Users\\xieliang\\AppData\\Roaming\\Python\\Python36\\site-packages\\tensorflow\\python\\ops\\math_ops.py:3066: to_int32 (from tensorflow.python.ops.math_ops) is deprecated and will be removed in a future version.\n",
      "Instructions for updating:\n",
      "Use tf.cast instead.\n",
      "Model Accuracy: 62.86%\n",
      "Wall time: 15.3 s\n"
     ]
    }
   ],
   "source": [
    "%%time\n",
    "# create and fit the model\n",
    "model = Sequential()\n",
    "model.add(LSTM(32, input_shape=(X.shape[1], X.shape[2])))\n",
    "model.add(Dense(y.shape[1], activation='softmax'))\n",
    "model.compile(loss='categorical_crossentropy', optimizer='adam', metrics=['accuracy'])\n",
    "model.fit(X, y, epochs=300, batch_size=1, verbose=0)\n",
    "\n",
    "# summarize performance of the model\n",
    "scores = model.evaluate(X, y, verbose=0)\n",
    "print(\"Model Accuracy: %.2f%%\" % (scores[1]*100))"
   ]
  },
  {
   "cell_type": "code",
   "execution_count": 8,
   "metadata": {},
   "outputs": [
    {
     "name": "stdout",
     "output_type": "stream",
     "text": [
      "['1'] -> 2\n",
      "['2'] -> 2\n",
      "['3'] -> 3\n",
      "['4'] -> 4\n",
      "['5'] -> 6\n",
      "['6'] -> 7\n",
      "['7'] -> 8\n",
      "['8'] -> 8\n",
      "['9'] -> 0\n",
      "['0'] -> 0\n",
      "['a'] -> b\n",
      "['b'] -> c\n",
      "['c'] -> d\n",
      "['d'] -> e\n",
      "['e'] -> f\n",
      "['f'] -> g\n",
      "['g'] -> h\n",
      "['h'] -> i\n",
      "['i'] -> j\n",
      "['j'] -> k\n",
      "['k'] -> l\n",
      "['l'] -> m\n",
      "['m'] -> n\n",
      "['n'] -> o\n",
      "['o'] -> p\n",
      "['p'] -> q\n",
      "['q'] -> s\n",
      "['r'] -> t\n",
      "['s'] -> u\n",
      "['t'] -> v\n",
      "['u'] -> x\n",
      "['v'] -> z\n",
      "['w'] -> z\n",
      "['x'] -> z\n",
      "['y'] -> z\n"
     ]
    }
   ],
   "source": [
    "# demonstrate some model predictions\n",
    "for pattern in dataX:\n",
    "\tx = numpy.reshape(pattern, (1, len(pattern), 1))\n",
    "\tx = x / float(len(alphabet))\n",
    "\tprediction = model.predict(x, verbose=0)\n",
    "\tindex = numpy.argmax(prediction)\n",
    "\tresult = int_to_char[index]\n",
    "\tseq_in = [int_to_char[value] for value in pattern]\n",
    "\tprint(seq_in, \"->\", result)"
   ]
  },
  {
   "cell_type": "markdown",
   "metadata": {},
   "source": [
    "# 3 chars window"
   ]
  },
  {
   "cell_type": "code",
   "execution_count": 9,
   "metadata": {},
   "outputs": [
    {
     "name": "stdout",
     "output_type": "stream",
     "text": [
      "123 -> 4\n",
      "234 -> 5\n",
      "345 -> 6\n",
      "456 -> 7\n",
      "567 -> 8\n",
      "678 -> 9\n",
      "789 -> 0\n",
      "890 -> a\n",
      "90a -> b\n",
      "0ab -> c\n",
      "abc -> d\n",
      "bcd -> e\n",
      "cde -> f\n",
      "def -> g\n",
      "efg -> h\n",
      "fgh -> i\n",
      "ghi -> j\n",
      "hij -> k\n",
      "ijk -> l\n",
      "jkl -> m\n",
      "klm -> n\n",
      "lmn -> o\n",
      "mno -> p\n",
      "nop -> q\n",
      "opq -> r\n",
      "pqr -> s\n",
      "qrs -> t\n",
      "rst -> u\n",
      "stu -> v\n",
      "tuv -> w\n",
      "uvw -> x\n",
      "vwx -> y\n",
      "wxy -> z\n"
     ]
    }
   ],
   "source": [
    "seq_length = 3\n",
    "dataX = []\n",
    "dataY = []\n",
    "for i in range(0, len(alphabet) - seq_length, 1):\n",
    "\tseq_in = alphabet[i:i + seq_length]\n",
    "\tseq_out = alphabet[i + seq_length]\n",
    "\tdataX.append([char_to_int[char] for char in seq_in])\n",
    "\tdataY.append(char_to_int[seq_out])\n",
    "\tprint(seq_in, '->', seq_out)\n",
    "# reshape X to be [samples, time steps, features]\n",
    "X = numpy.reshape(dataX, (len(dataX), 1, seq_length))\n",
    "# normalize\n",
    "X = X / float(len(alphabet))\n",
    "# one hot encode the output variable\n",
    "y = np_utils.to_categorical(dataY)"
   ]
  },
  {
   "cell_type": "code",
   "execution_count": 12,
   "metadata": {},
   "outputs": [
    {
     "name": "stdout",
     "output_type": "stream",
     "text": [
      "Model Accuracy: 66.67%\n",
      "Wall time: 15.7 s\n"
     ]
    }
   ],
   "source": [
    "%%time\n",
    "# create and fit the model\n",
    "model = Sequential()\n",
    "model.add(LSTM(32, input_shape=(X.shape[1], X.shape[2])))\n",
    "model.add(Dense(y.shape[1], activation='softmax'))\n",
    "model.compile(loss='categorical_crossentropy', optimizer='adam', metrics=['accuracy'])\n",
    "model.fit(X, y, epochs=300, batch_size=1, verbose=0)\n",
    "# summarize performance of the model\n",
    "scores = model.evaluate(X, y, verbose=0)\n",
    "print(\"Model Accuracy: %.2f%%\" % (scores[1]*100))"
   ]
  },
  {
   "cell_type": "code",
   "execution_count": 13,
   "metadata": {},
   "outputs": [
    {
     "name": "stdout",
     "output_type": "stream",
     "text": [
      "['1', '2', '3'] -> 4\n",
      "['2', '3', '4'] -> 4\n",
      "['3', '4', '5'] -> 6\n",
      "['4', '5', '6'] -> 6\n",
      "['5', '6', '7'] -> 8\n",
      "['6', '7', '8'] -> 9\n",
      "['7', '8', '9'] -> 0\n",
      "['8', '9', '0'] -> a\n",
      "['9', '0', 'a'] -> b\n",
      "['0', 'a', 'b'] -> c\n",
      "['a', 'b', 'c'] -> d\n",
      "['b', 'c', 'd'] -> e\n",
      "['c', 'd', 'e'] -> f\n",
      "['d', 'e', 'f'] -> g\n",
      "['e', 'f', 'g'] -> h\n",
      "['f', 'g', 'h'] -> i\n",
      "['g', 'h', 'i'] -> j\n",
      "['h', 'i', 'j'] -> k\n",
      "['i', 'j', 'k'] -> l\n",
      "['j', 'k', 'l'] -> m\n",
      "['k', 'l', 'm'] -> m\n",
      "['l', 'm', 'n'] -> p\n",
      "['m', 'n', 'o'] -> p\n",
      "['n', 'o', 'p'] -> q\n",
      "['o', 'p', 'q'] -> r\n",
      "['p', 'q', 'r'] -> t\n",
      "['q', 'r', 's'] -> u\n",
      "['r', 's', 't'] -> x\n",
      "['s', 't', 'u'] -> x\n",
      "['t', 'u', 'v'] -> z\n",
      "['u', 'v', 'w'] -> z\n",
      "['v', 'w', 'x'] -> z\n",
      "['w', 'x', 'y'] -> z\n"
     ]
    }
   ],
   "source": [
    "# demonstrate some model predictions\n",
    "for pattern in dataX:\n",
    "\tx = numpy.reshape(pattern, (1, 1, len(pattern)))\n",
    "\tx = x / float(len(alphabet))\n",
    "\tprediction = model.predict(x, verbose=0)\n",
    "\tindex = numpy.argmax(prediction)\n",
    "\tresult = int_to_char[index]\n",
    "\tseq_in = [int_to_char[value] for value in pattern]\n",
    "\tprint(seq_in, \"->\", result)"
   ]
  },
  {
   "cell_type": "markdown",
   "metadata": {},
   "source": [
    "# Timesteps"
   ]
  },
  {
   "cell_type": "code",
   "execution_count": 14,
   "metadata": {},
   "outputs": [
    {
     "name": "stdout",
     "output_type": "stream",
     "text": [
      "123 -> 4\n",
      "234 -> 5\n",
      "345 -> 6\n",
      "456 -> 7\n",
      "567 -> 8\n",
      "678 -> 9\n",
      "789 -> 0\n",
      "890 -> a\n",
      "90a -> b\n",
      "0ab -> c\n",
      "abc -> d\n",
      "bcd -> e\n",
      "cde -> f\n",
      "def -> g\n",
      "efg -> h\n",
      "fgh -> i\n",
      "ghi -> j\n",
      "hij -> k\n",
      "ijk -> l\n",
      "jkl -> m\n",
      "klm -> n\n",
      "lmn -> o\n",
      "mno -> p\n",
      "nop -> q\n",
      "opq -> r\n",
      "pqr -> s\n",
      "qrs -> t\n",
      "rst -> u\n",
      "stu -> v\n",
      "tuv -> w\n",
      "uvw -> x\n",
      "vwx -> y\n",
      "wxy -> z\n"
     ]
    }
   ],
   "source": [
    "# prepare the dataset of input to output pairs encoded as integers\n",
    "seq_length = 3\n",
    "dataX = []\n",
    "dataY = []\n",
    "for i in range(0, len(alphabet) - seq_length, 1):\n",
    "\tseq_in = alphabet[i:i + seq_length]\n",
    "\tseq_out = alphabet[i + seq_length]\n",
    "\tdataX.append([char_to_int[char] for char in seq_in])\n",
    "\tdataY.append(char_to_int[seq_out])\n",
    "\tprint(seq_in, '->', seq_out)"
   ]
  },
  {
   "cell_type": "code",
   "execution_count": 15,
   "metadata": {},
   "outputs": [],
   "source": [
    "# reshape X to be [samples, time steps, features]\n",
    "X = numpy.reshape(dataX, (len(dataX), seq_length, 1))\n",
    "# normalize\n",
    "X = X / float(len(alphabet))\n",
    "# one hot encode the output variable\n",
    "y = np_utils.to_categorical(dataY)"
   ]
  },
  {
   "cell_type": "code",
   "execution_count": 16,
   "metadata": {},
   "outputs": [
    {
     "name": "stdout",
     "output_type": "stream",
     "text": [
      "Model Accuracy: 96.97%\n",
      "Wall time: 25 s\n"
     ]
    }
   ],
   "source": [
    "%%time\n",
    "# create and fit the model\n",
    "model = Sequential()\n",
    "model.add(LSTM(32, input_shape=(X.shape[1], X.shape[2])))\n",
    "model.add(Dense(y.shape[1], activation='softmax'))\n",
    "model.compile(loss='categorical_crossentropy', optimizer='adam', metrics=['accuracy'])\n",
    "model.fit(X, y, epochs=300, batch_size=1, verbose=0)\n",
    "# summarize performance of the model\n",
    "scores = model.evaluate(X, y, verbose=0)\n",
    "print(\"Model Accuracy: %.2f%%\" % (scores[1]*100))"
   ]
  },
  {
   "cell_type": "code",
   "execution_count": 17,
   "metadata": {},
   "outputs": [
    {
     "name": "stdout",
     "output_type": "stream",
     "text": [
      "['1', '2', '3'] -> 4\n",
      "['2', '3', '4'] -> 5\n",
      "['3', '4', '5'] -> 6\n",
      "['4', '5', '6'] -> 7\n",
      "['5', '6', '7'] -> 8\n",
      "['6', '7', '8'] -> 9\n",
      "['7', '8', '9'] -> 0\n",
      "['8', '9', '0'] -> a\n",
      "['9', '0', 'a'] -> b\n",
      "['0', 'a', 'b'] -> c\n",
      "['a', 'b', 'c'] -> d\n",
      "['b', 'c', 'd'] -> e\n",
      "['c', 'd', 'e'] -> f\n",
      "['d', 'e', 'f'] -> g\n",
      "['e', 'f', 'g'] -> h\n",
      "['f', 'g', 'h'] -> i\n",
      "['g', 'h', 'i'] -> j\n",
      "['h', 'i', 'j'] -> k\n",
      "['i', 'j', 'k'] -> l\n",
      "['j', 'k', 'l'] -> m\n",
      "['k', 'l', 'm'] -> n\n",
      "['l', 'm', 'n'] -> o\n",
      "['m', 'n', 'o'] -> p\n",
      "['n', 'o', 'p'] -> q\n",
      "['o', 'p', 'q'] -> r\n",
      "['p', 'q', 'r'] -> s\n",
      "['q', 'r', 's'] -> t\n",
      "['r', 's', 't'] -> u\n",
      "['s', 't', 'u'] -> v\n",
      "['t', 'u', 'v'] -> w\n",
      "['u', 'v', 'w'] -> x\n",
      "['v', 'w', 'x'] -> z\n",
      "['w', 'x', 'y'] -> z\n"
     ]
    }
   ],
   "source": [
    "# demonstrate some model predictions\n",
    "for pattern in dataX:\n",
    "\tx = numpy.reshape(pattern, (1, len(pattern), 1))\n",
    "\tx = x / float(len(alphabet))\n",
    "\tprediction = model.predict(x, verbose=0)\n",
    "\tindex = numpy.argmax(prediction)\n",
    "\tresult = int_to_char[index]\n",
    "\tseq_in = [int_to_char[value] for value in pattern]\n",
    "\tprint(seq_in, \"->\", result)"
   ]
  },
  {
   "cell_type": "code",
   "execution_count": 18,
   "metadata": {},
   "outputs": [
    {
     "name": "stdout",
     "output_type": "stream",
     "text": [
      "1 -> 2\n",
      "2 -> 3\n",
      "3 -> 4\n",
      "4 -> 5\n",
      "5 -> 6\n",
      "6 -> 7\n",
      "7 -> 8\n",
      "8 -> 9\n",
      "9 -> 0\n",
      "0 -> a\n",
      "a -> b\n",
      "b -> c\n",
      "c -> d\n",
      "d -> e\n",
      "e -> f\n",
      "f -> g\n",
      "g -> h\n",
      "h -> i\n",
      "i -> j\n",
      "j -> k\n",
      "k -> l\n",
      "l -> m\n",
      "m -> n\n",
      "n -> o\n",
      "o -> p\n",
      "p -> q\n",
      "q -> r\n",
      "r -> s\n",
      "s -> t\n",
      "t -> u\n",
      "u -> v\n",
      "v -> w\n",
      "w -> x\n",
      "x -> y\n",
      "y -> z\n"
     ]
    }
   ],
   "source": [
    "seq_length = 1\n",
    "dataX = []\n",
    "dataY = []\n",
    "for i in range(0, len(alphabet) - seq_length, 1):\n",
    "\tseq_in = alphabet[i:i + seq_length]\n",
    "\tseq_out = alphabet[i + seq_length]\n",
    "\tdataX.append([char_to_int[char] for char in seq_in])\n",
    "\tdataY.append(char_to_int[seq_out])\n",
    "\tprint(seq_in, '->', seq_out)\n",
    "\n",
    "# reshape X to be [samples, time steps, features]\n",
    "X = numpy.reshape(dataX, (len(dataX), seq_length, 1))\n",
    "# normalize\n",
    "X = X / float(len(alphabet))\n",
    "# one hot encode the output variable\n",
    "y = np_utils.to_categorical(dataY)"
   ]
  },
  {
   "cell_type": "code",
   "execution_count": 19,
   "metadata": {},
   "outputs": [
    {
     "name": "stdout",
     "output_type": "stream",
     "text": [
      "Model Accuracy: 85.71%\n",
      "Wall time: 14.2 s\n"
     ]
    }
   ],
   "source": [
    "%%time\n",
    "batch_size = 1\n",
    "model = Sequential()\n",
    "model.add(LSTM(32, batch_input_shape=(batch_size, X.shape[1], X.shape[2]), stateful=True))\n",
    "model.add(Dense(y.shape[1], activation='softmax'))\n",
    "model.compile(loss='categorical_crossentropy', optimizer='adam', metrics=['accuracy'])\n",
    "for i in range(300):\n",
    "\tmodel.fit(X, y, epochs=1, batch_size=batch_size, verbose=0, shuffle=False)\n",
    "\tmodel.reset_states()\n",
    "# summarize performance of the model\n",
    "scores = model.evaluate(X, y, batch_size=batch_size, verbose=0)\n",
    "model.reset_states()\n",
    "print(\"Model Accuracy: %.2f%%\" % (scores[1]*100))"
   ]
  },
  {
   "cell_type": "code",
   "execution_count": 20,
   "metadata": {},
   "outputs": [
    {
     "name": "stdout",
     "output_type": "stream",
     "text": [
      "1 -> 2\n",
      "2 -> 3\n",
      "3 -> 4\n",
      "4 -> 5\n",
      "5 -> 6\n",
      "6 -> 7\n",
      "7 -> 8\n",
      "8 -> 9\n",
      "9 -> 0\n",
      "0 -> a\n",
      "a -> b\n",
      "b -> c\n",
      "c -> d\n",
      "d -> e\n",
      "e -> f\n",
      "f -> g\n",
      "g -> h\n",
      "h -> i\n",
      "i -> j\n",
      "j -> k\n",
      "k -> l\n",
      "l -> m\n",
      "m -> n\n",
      "n -> o\n",
      "o -> p\n",
      "p -> p\n",
      "p -> q\n",
      "q -> s\n",
      "s -> t\n",
      "t -> t\n",
      "t -> u\n",
      "u -> w\n",
      "w -> x\n",
      "x -> x\n",
      "x -> z\n",
      "New start:  [10] 10\n",
      "a -> 1 2\n",
      "2 -> 2 3\n",
      "3 -> 2 3\n",
      "3 -> 3 4\n",
      "4 -> 4 5\n",
      "[[7.4861432e-06 5.3270726e-04 1.4103095e-02 1.9836536e-01 5.9980923e-01\n",
      "  1.5112400e-01 1.7632097e-02 6.1145336e-03 2.5556590e-03 7.0959999e-05\n",
      "  1.5699474e-06 3.9794190e-06 2.2343955e-05 1.6311454e-06 3.7749178e-06\n",
      "  2.4852259e-05 3.1031217e-04 2.2651679e-03 8.2667515e-04 1.8670507e-04\n",
      "  1.1089261e-03 1.4299252e-04 4.6600634e-04 2.3609668e-04 6.1529089e-04\n",
      "  4.3131455e-04 3.3702303e-04 2.6897556e-04 2.7037258e-04 1.5115122e-04\n",
      "  5.1723844e-05 3.5509755e-04 1.0464609e-04 3.3588937e-04 4.0960210e-04\n",
      "  7.5278356e-04]]\n"
     ]
    }
   ],
   "source": [
    "# demonstrate some model predictions\n",
    "seed = [char_to_int[alphabet[0]]]\n",
    "for i in range(0, len(alphabet)-1):\n",
    "\tx = numpy.reshape(seed, (1, len(seed), 1))\n",
    "\tx = x / float(len(alphabet))\n",
    "\tprediction = model.predict(x, verbose=0)\n",
    "\tindex = numpy.argmax(prediction)\n",
    "\tprint(int_to_char[seed[0]], \"->\", int_to_char[index])\n",
    "\tseed = [index]\n",
    "model.reset_states()\n",
    "# demonstrate a random starting point\n",
    "letter = \"a\"\n",
    "index = char_to_int[letter]\n",
    "seed = [index]\n",
    "print(\"New start: \", seed, index)\n",
    "for i in range(0, 5):\n",
    "    x = numpy.reshape(seed, (1, len(seed), 1))\n",
    "    x = x / float(len(alphabet))\n",
    "    prediction = model.predict(x, verbose=0)\n",
    "    index = numpy.argmax(prediction)\n",
    "    print(int_to_char[seed[0]], \"->\", index, int_to_char[index])\n",
    "    seed = [index]\n",
    "model.reset_states()\n",
    "print(prediction)"
   ]
  },
  {
   "cell_type": "code",
   "execution_count": 21,
   "metadata": {},
   "outputs": [],
   "source": [
    "from keras.preprocessing.sequence import pad_sequences"
   ]
  },
  {
   "cell_type": "code",
   "execution_count": 22,
   "metadata": {},
   "outputs": [
    {
     "name": "stdout",
     "output_type": "stream",
     "text": [
      "def -> g\n",
      "u -> v\n",
      "stuvw -> x\n",
      "567 -> 8\n",
      "xy -> z\n",
      "hijkl -> m\n",
      "56 -> 7\n",
      "67890 -> a\n",
      "hijk -> l\n",
      "6 -> 7\n"
     ]
    }
   ],
   "source": [
    "# prepare the dataset of input to output pairs encoded as integers\n",
    "num_inputs = 1000\n",
    "max_len = 5\n",
    "dataX = []\n",
    "dataY = []\n",
    "for i in range(num_inputs):\n",
    "    start = numpy.random.randint(len(alphabet)-2)\n",
    "    end = numpy.random.randint(start, min(start+max_len,len(alphabet)-1))\n",
    "    sequence_in = alphabet[start:end+1]\n",
    "    sequence_out = alphabet[end + 1]\n",
    "    dataX.append([char_to_int[char] for char in sequence_in])\n",
    "    dataY.append(char_to_int[sequence_out])\n",
    "    if i<10:\n",
    "        print(sequence_in, '->', sequence_out)"
   ]
  },
  {
   "cell_type": "code",
   "execution_count": 23,
   "metadata": {},
   "outputs": [
    {
     "name": "stdout",
     "output_type": "stream",
     "text": [
      "[[[ 0.]\n",
      "  [ 0.]\n",
      "  [13.]\n",
      "  [14.]\n",
      "  [15.]]\n",
      "\n",
      " [[ 0.]\n",
      "  [ 0.]\n",
      "  [ 0.]\n",
      "  [ 0.]\n",
      "  [30.]]\n",
      "\n",
      " [[28.]\n",
      "  [29.]\n",
      "  [30.]\n",
      "  [31.]\n",
      "  [32.]]\n",
      "\n",
      " [[ 0.]\n",
      "  [ 0.]\n",
      "  [ 4.]\n",
      "  [ 5.]\n",
      "  [ 6.]]]\n"
     ]
    }
   ],
   "source": [
    "# convert list of lists to array and pad sequences if needed\n",
    "X = pad_sequences(dataX, maxlen=max_len, dtype='float32')\n",
    "# reshape X to be [samples, time steps, features]\n",
    "X = numpy.reshape(X, (X.shape[0], max_len, 1))\n",
    "# normalize\n",
    "#X = X / float(len(alphabet))\n",
    "# one hot encode the output variable\n",
    "y = np_utils.to_categorical(dataY)\n",
    "print(X[:4])"
   ]
  },
  {
   "cell_type": "code",
   "execution_count": 24,
   "metadata": {},
   "outputs": [
    {
     "name": "stdout",
     "output_type": "stream",
     "text": [
      "Model Accuracy: 98.20%\n",
      "Wall time: 2min 3s\n"
     ]
    }
   ],
   "source": [
    "%%time\n",
    "# create and fit the model\n",
    "batch_size = 8\n",
    "model = Sequential()\n",
    "model.add(LSTM(32, input_shape=(X.shape[1], 1)))\n",
    "model.add(Dense(y.shape[1], activation='softmax'))\n",
    "model.compile(loss='categorical_crossentropy', optimizer='adam', metrics=['accuracy'])\n",
    "model.fit(X, y, epochs=300, batch_size=batch_size, verbose=0)\n",
    "# summarize performance of the model\n",
    "scores = model.evaluate(X, y, verbose=0)\n",
    "print(\"Model Accuracy: %.2f%%\" % (scores[1]*100))"
   ]
  },
  {
   "cell_type": "code",
   "execution_count": 24,
   "metadata": {},
   "outputs": [
    {
     "name": "stdout",
     "output_type": "stream",
     "text": [
      "['t'] -> u\n",
      "['r', 's', 't'] -> u\n",
      "['4', '5', '6'] -> 7\n",
      "['x', 'y'] -> z\n",
      "['i'] -> j\n",
      "['e'] -> f\n",
      "['3', '4', '5'] -> 6\n",
      "['w', 'x'] -> y\n",
      "['v'] -> w\n",
      "['o', 'p', 'q', 'r'] -> s\n",
      "['3', '4', '5'] -> 6\n",
      "['w'] -> x\n",
      "['6', '7', '8'] -> 9\n",
      "['4', '5'] -> 6\n",
      "['t', 'u', 'v', 'w'] -> x\n",
      "['u', 'v'] -> w\n",
      "['u', 'v', 'w', 'x', 'y'] -> z\n",
      "['g', 'h', 'i', 'j', 'k'] -> l\n",
      "['q'] -> r\n",
      "['o'] -> p\n"
     ]
    }
   ],
   "source": [
    "# demonstrate some model predictions\n",
    "for i in range(20):\n",
    "\tpattern_index = numpy.random.randint(len(dataX))\n",
    "\tpattern = dataX[pattern_index]\n",
    "\tx = pad_sequences([pattern], maxlen=max_len, dtype='float32')\n",
    "\tx = numpy.reshape(x, (1, max_len, 1))\n",
    "\tprediction = model.predict(x, verbose=0)\n",
    "\tindex = numpy.argmax(prediction)\n",
    "\tresult = int_to_char[index]\n",
    "\tseq_in = [int_to_char[value] for value in pattern]\n",
    "\tprint(seq_in, \"->\", result)"
   ]
  }
 ],
 "metadata": {
  "kernelspec": {
   "display_name": "Python 3",
   "language": "python",
   "name": "python3"
  },
  "language_info": {
   "codemirror_mode": {
    "name": "ipython",
    "version": 3
   },
   "file_extension": ".py",
   "mimetype": "text/x-python",
   "name": "python",
   "nbconvert_exporter": "python",
   "pygments_lexer": "ipython3",
   "version": "3.6.5"
  }
 },
 "nbformat": 4,
 "nbformat_minor": 2
}
